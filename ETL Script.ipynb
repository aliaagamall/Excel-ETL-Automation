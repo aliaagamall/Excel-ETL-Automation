{
 "cells": [
  {
   "cell_type": "code",
   "execution_count": 1,
   "id": "53c09cae",
   "metadata": {},
   "outputs": [],
   "source": [
    "import pandas as pd\n",
    "from openpyxl import load_workbook\n",
    "from openpyxl.styles import numbers\n",
    "from openpyxl.worksheet.table import Table, TableStyleInfo\n",
    "from openpyxl.formatting.rule import ColorScaleRule\n",
    "import os"
   ]
  },
  {
   "cell_type": "code",
   "execution_count": 2,
   "id": "515a0d84",
   "metadata": {},
   "outputs": [],
   "source": [
    "import warnings\n",
    "warnings.filterwarnings('ignore', category=UserWarning, module='openpyxl')"
   ]
  },
  {
   "cell_type": "code",
   "execution_count": 9,
   "id": "99b5fb00",
   "metadata": {},
   "outputs": [
    {
     "name": "stderr",
     "output_type": "stream",
     "text": [
      "C:\\Users\\aliaa\\AppData\\Local\\Temp\\ipykernel_10988\\1083339826.py:9: FutureWarning: A value is trying to be set on a copy of a DataFrame or Series through chained assignment using an inplace method.\n",
      "The behavior will change in pandas 3.0. This inplace method will never work because the intermediate object on which we are setting values always behaves as a copy.\n",
      "\n",
      "For example, when doing 'df[col].method(value, inplace=True)', try using 'df.method({col: value}, inplace=True)' or df[col] = df[col].method(value) instead, to perform the operation inplace on the original object.\n",
      "\n",
      "\n",
      "  processed_df[\"Quantity\"].fillna(processed_df[\"Quantity\"].mean(), inplace=True)\n",
      "C:\\Users\\aliaa\\AppData\\Local\\Temp\\ipykernel_10988\\1083339826.py:10: FutureWarning: A value is trying to be set on a copy of a DataFrame or Series through chained assignment using an inplace method.\n",
      "The behavior will change in pandas 3.0. This inplace method will never work because the intermediate object on which we are setting values always behaves as a copy.\n",
      "\n",
      "For example, when doing 'df[col].method(value, inplace=True)', try using 'df.method({col: value}, inplace=True)' or df[col] = df[col].method(value) instead, to perform the operation inplace on the original object.\n",
      "\n",
      "\n",
      "  processed_df[\"Price\"].fillna(processed_df[\"Price\"].mean(), inplace=True)\n",
      "C:\\Users\\aliaa\\AppData\\Local\\Temp\\ipykernel_10988\\1083339826.py:11: FutureWarning: A value is trying to be set on a copy of a DataFrame or Series through chained assignment using an inplace method.\n",
      "The behavior will change in pandas 3.0. This inplace method will never work because the intermediate object on which we are setting values always behaves as a copy.\n",
      "\n",
      "For example, when doing 'df[col].method(value, inplace=True)', try using 'df.method({col: value}, inplace=True)' or df[col] = df[col].method(value) instead, to perform the operation inplace on the original object.\n",
      "\n",
      "\n",
      "  processed_df[\"Cost\"].fillna(processed_df[\"Cost\"].mean(), inplace=True)\n",
      "C:\\Users\\aliaa\\AppData\\Local\\Temp\\ipykernel_10988\\1083339826.py:12: FutureWarning: A value is trying to be set on a copy of a DataFrame or Series through chained assignment using an inplace method.\n",
      "The behavior will change in pandas 3.0. This inplace method will never work because the intermediate object on which we are setting values always behaves as a copy.\n",
      "\n",
      "For example, when doing 'df[col].method(value, inplace=True)', try using 'df.method({col: value}, inplace=True)' or df[col] = df[col].method(value) instead, to perform the operation inplace on the original object.\n",
      "\n",
      "\n",
      "  processed_df[\"Customer\"].fillna(\"Unknown\", inplace=True)\n"
     ]
    },
    {
     "name": "stdout",
     "output_type": "stream",
     "text": [
      "Processed data saved and formatted in 'sales_data.xlsx' (Processed Data).\n"
     ]
    }
   ],
   "source": [
    "# ===== Extract the raw data =====\n",
    "excel_file = \"sales_data.xlsx\"\n",
    "processed_df = pd.read_excel(excel_file, sheet_name=\"Raw Data\")\n",
    "\n",
    "# ===== Transform the data =====\n",
    "# Step 4.1: Clean data\n",
    "processed_df[\"Date\"] = pd.to_datetime(processed_df[\"Date\"], errors=\"coerce\").dt.date\n",
    "processed_df[\"Quantity\"] = pd.to_numeric(processed_df[\"Quantity\"], errors=\"coerce\")\n",
    "processed_df[\"Quantity\"].fillna(processed_df[\"Quantity\"].mean(), inplace=True)\n",
    "processed_df[\"Price\"].fillna(processed_df[\"Price\"].mean(), inplace=True)\n",
    "processed_df[\"Cost\"].fillna(processed_df[\"Cost\"].mean(), inplace=True)\n",
    "processed_df[\"Customer\"].fillna(\"Unknown\", inplace=True)\n",
    "processed_df.drop_duplicates(inplace=True)\n",
    "processed_df[\"Quantity\"] = processed_df[\"Quantity\"].astype(int)\n",
    "\n",
    "# Step 4.2: Add new columns\n",
    "processed_df[\"Revenue\"] = processed_df[\"Quantity\"] * processed_df[\"Price\"]\n",
    "processed_df[\"Profit\"] = processed_df[\"Revenue\"] - (processed_df[\"Quantity\"] * processed_df[\"Cost\"])\n",
    "\n",
    "# ===== Handle 'Processed_Data' sheet =====\n",
    "if os.path.exists(excel_file):\n",
    "    try:\n",
    "        existing_df = pd.read_excel(excel_file, sheet_name=\"Processed_Data\")\n",
    "        combined_df = pd.concat([existing_df, processed_df], ignore_index=True)\n",
    "        combined_df.drop_duplicates(subset=combined_df.columns.tolist(), inplace=True)\n",
    "        combined_df.sort_values(by=\"Date\", ascending=False, inplace=True) # Sort by Date descending\n",
    "    except ValueError:\n",
    "        combined_df = processed_df\n",
    "else:\n",
    "    combined_df = processed_df\n",
    "\n",
    "# ===== Write processed data back =====\n",
    "with pd.ExcelWriter(excel_file, mode=\"a\" if os.path.exists(excel_file) else \"w\", engine=\"openpyxl\", if_sheet_exists=\"replace\") as writer:\n",
    "    combined_df.to_excel(writer, sheet_name=\"Processed Data\", index=False)\n",
    "\n",
    "# ===== Apply formatting with openpyxl =====\n",
    "wb = load_workbook(excel_file)\n",
    "ws = wb[\"Processed Data\"]\n",
    "\n",
    "# Convert to Excel Table\n",
    "table = Table(displayName=\"ProcessedDataTable\", ref=ws.dimensions)\n",
    "style = TableStyleInfo(name=\"TableStyleMedium9\", showRowStripes=True, showColumnStripes=False)\n",
    "table.tableStyleInfo = style\n",
    "ws.add_table(table)\n",
    "\n",
    "# Apply currency format to Price, Revenue, Profit\n",
    "currency_cols = [\"Price\", \"Revenue\", \"Profit\"]\n",
    "col_index = {cell.value: cell.column for cell in ws[1]}  # map col name -> col index\n",
    "for col in currency_cols:\n",
    "    col_letter = ws.cell(row=1, column=col_index[col]).column_letter\n",
    "    for cell in ws[col_letter]:\n",
    "        if cell.row > 1:  # skip header\n",
    "            cell.number_format = numbers.FORMAT_CURRENCY_USD_SIMPLE  # e.g. $1,234\n",
    "\n",
    "# Apply conditional formatting on Profit (red → green gradient)\n",
    "profit_col_letter = ws.cell(row=1, column=col_index[\"Profit\"]).column_letter\n",
    "profit_range = f\"{profit_col_letter}2:{profit_col_letter}{ws.max_row}\"\n",
    "rule = ColorScaleRule(\n",
    "    start_type=\"min\", start_color=\"FF0000\",  # red\n",
    "    mid_type=\"percentile\", mid_value=50, mid_color=\"FFFFFF\",  # white\n",
    "    end_type=\"max\", end_color=\"00B050\"  # green\n",
    ")\n",
    "ws.conditional_formatting.add(profit_range, rule)\n",
    "\n",
    "# Autofit columns (approx by setting width to max length)\n",
    "for col_cells in ws.columns:\n",
    "    max_length = max(len(str(cell.value)) if cell.value is not None else 0 for cell in col_cells)\n",
    "    adjusted_width = max_length + 2\n",
    "    ws.column_dimensions[col_cells[0].column_letter].width = adjusted_width\n",
    "\n",
    "wb.save(excel_file)\n",
    "\n",
    "print(f\"Processed data saved and formatted in '{excel_file}' (Processed Data).\")"
   ]
  },
  {
   "cell_type": "code",
   "execution_count": null,
   "id": "7dfae3a6",
   "metadata": {},
   "outputs": [],
   "source": []
  }
 ],
 "metadata": {
  "kernelspec": {
   "display_name": "myenv",
   "language": "python",
   "name": "python3"
  },
  "language_info": {
   "codemirror_mode": {
    "name": "ipython",
    "version": 3
   },
   "file_extension": ".py",
   "mimetype": "text/x-python",
   "name": "python",
   "nbconvert_exporter": "python",
   "pygments_lexer": "ipython3",
   "version": "3.12.9"
  }
 },
 "nbformat": 4,
 "nbformat_minor": 5
}
